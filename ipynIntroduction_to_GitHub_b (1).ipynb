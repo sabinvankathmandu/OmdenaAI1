{
  "nbformat": 4,
  "nbformat_minor": 0,
  "metadata": {
    "colab": {
      "provenance": []
    },
    "kernelspec": {
      "name": "python3",
      "display_name": "Python 3"
    },
    "language_info": {
      "name": "python"
    }
  },
  "cells": [
    {
      "cell_type": "markdown",
      "source": [
        "- To Install Git\n",
        "- To set up Git on your computer\n",
        "- To configure GitHub\n",
        "- Create your first repo."
      ],
      "metadata": {
        "id": "hMIu2NQW3_sw"
      }
    },
    {
      "cell_type": "markdown",
      "source": [
        "## Instructions:"
      ],
      "metadata": {
        "id": "qlFBsPVs4Dkl"
      }
    },
    {
      "cell_type": "markdown",
      "source": [
        "- Complete the following steps and provide Screenshot logs"
      ],
      "metadata": {
        "id": "baflwG_-8Z-T"
      }
    },
    {
      "cell_type": "markdown",
      "source": [
        "##Part 1:"
      ],
      "metadata": {
        "id": "ZK-ZvbxG4K-L"
      }
    },
    {
      "cell_type": "markdown",
      "source": [
        "### 1. Download Git"
      ],
      "metadata": {
        "id": "S3gLWmia4ROq"
      }
    },
    {
      "cell_type": "markdown",
      "source": [
        "- Go to the official [website](https://git-scm.com/downloads) and download git"
      ],
      "metadata": {
        "id": "PFWozjr_4Tyo"
      }
    },
    {
      "cell_type": "markdown",
      "source": [
        "### 2. install Git"
      ],
      "metadata": {
        "id": "dAyDK0Zi4V0a"
      }
    },
    {
      "cell_type": "markdown",
      "source": [
        "## Objective:"
      ],
      "metadata": {
        "id": "08wFknOe38sk"
      }
    },
    {
      "cell_type": "markdown",
      "source": [
        "- Run the downloaded Installer and follow the instructions\n",
        "\n",
        "1.   List item\n",
        "2.   List item\n",
        "\n",
        "\n",
        "- Accept the default settings"
      ],
      "metadata": {
        "id": "rxyXhN5F4XcL"
      }
    },
    {
      "cell_type": "markdown",
      "source": [
        "### 3. Verify Installation"
      ],
      "metadata": {
        "id": "4XlVgN6L4ZWJ"
      }
    },
    {
      "cell_type": "markdown",
      "source": [
        "![git installation.JPG](data:image/jpeg;base64,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)- Open termial (Command Prompt, Git Bash, termial)\n",
        "- Run the following to verify the installation:\n",
        "    - `git --version`"
      ],
      "metadata": {
        "id": "3Xf9H2vQ4bNt"
      }
    },
    {
      "cell_type": "markdown",
      "source": [
        "## Part 2: Set up Git on your computer"
      ],
      "metadata": {
        "id": "guteOZPS4ddx"
      }
    },
    {
      "cell_type": "markdown",
      "source": [
        "### 4. Configure your identity:"
      ],
      "metadata": {
        "id": "6ShD4HIn4hB5"
      }
    },
    {
      "cell_type": "markdown",
      "source": [
        "- Set up your username:\n",
        "    - `git config --global user.name \"your Name\"`\n",
        "\n",
        "- Set up your email address\n",
        "    - `git config --global user.email \"your.email@example.com\"`"
      ],
      "metadata": {
        "id": "fZbfNTpz4kyE"
      }
    },
    {
      "cell_type": "markdown",
      "source": [
        "### 5. Verify configurations"
      ],
      "metadata": {
        "id": "slQ-mDVw4nRA"
      }
    },
    {
      "cell_type": "markdown",
      "source": [
        "- Check your configurations settings\n",
        "    - `git config --list`"
      ],
      "metadata": {
        "id": "VKslxzy04pej"
      }
    },
    {
      "cell_type": "markdown",
      "source": [
        "## Part 3: Create a github Account:"
      ],
      "metadata": {
        "id": "zL1BgOzj4sXl"
      }
    },
    {
      "cell_type": "markdown",
      "source": [
        "### 6. Sign up for GitHub"
      ],
      "metadata": {
        "id": "xcowf9Lc4u58"
      }
    },
    {
      "cell_type": "code",
      "source": [],
      "metadata": {
        "id": "K1PsDh1f2oN8"
      },
      "execution_count": null,
      "outputs": []
    },
    {
      "cell_type": "markdown",
      "source": [
        "- Go to www.github.com and sign up for a free account\n",
        "- Follow instructions for verification and complete the email registration process."
      ],
      "metadata": {
        "id": "Jn6UCF604xBq"
      }
    },
    {
      "cell_type": "markdown",
      "source": [
        "## Part 4: Set up SSH keys (Optional but recommended)"
      ],
      "metadata": {
        "id": "doFa4qxE4y8C"
      }
    },
    {
      "cell_type": "markdown",
      "source": [
        "### 7. Generate an SSH Key"
      ],
      "metadata": {
        "id": "VB46ttrh41us"
      }
    },
    {
      "cell_type": "markdown",
      "source": [
        "- Open your terminal - You can use the gitbash for this\n",
        "- Run the command\n",
        "    - `ssh-keygen -t rsa -b 4096 -C \"your.email@example.com\"`\n",
        "  - Follo the prompts to save the key ( Default locations)"
      ],
      "metadata": {
        "id": "Awtrufzf43am"
      }
    },
    {
      "cell_type": "markdown",
      "source": [
        "### 8. Add the SSH key to the SSH Agent:"
      ],
      "metadata": {
        "id": "UQAsYu7745gJ"
      }
    },
    {
      "cell_type": "markdown",
      "source": [],
      "metadata": {
        "id": "jqR098Sm7tH9"
      }
    },
    {
      "cell_type": "markdown",
      "source": [
        "*eval* \"$(ssh-agent -s)\"\n",
        "\n"
      ],
      "metadata": {
        "id": "tmYJkuevmKBO"
      }
    },
    {
      "cell_type": "markdown",
      "source": [
        "### 9. Add SSH Key to GitHub"
      ],
      "metadata": {
        "id": "JMhku2rG5AYs"
      }
    },
    {
      "cell_type": "markdown",
      "source": [
        "- Copy the SSH key to your clipboard:\n",
        "    - `cat ~/.ssh/id_rsa.pub`\n",
        "\n",
        "- Go to GitHub, navigate to your profile, and go to settings.\n",
        "- In the \"SSH and GPG keys\" section, click \"New SSH Key\"\n",
        "- Paste your SSH key and save."
      ],
      "metadata": {
        "id": "Ix_lQYrm5DPe"
      }
    },
    {
      "cell_type": "markdown",
      "source": [
        "## Part 5: Create Your First Repository:"
      ],
      "metadata": {
        "id": "XueOvS-y5I8z"
      }
    },
    {
      "cell_type": "markdown",
      "source": [
        "### 10. Create a New Repository on GitHub:"
      ],
      "metadata": {
        "id": "MtBE70rj5K0W"
      }
    },
    {
      "cell_type": "markdown",
      "source": [
        "- Go to GitHub and log in\n",
        "- Click on \"New\" button to create a new repository\n",
        "- Fill in the repository Name, description, Choose to make it public\n",
        "- Innitialize the repository with a README file\n",
        "- Click on Create"
      ],
      "metadata": {
        "id": "wQQ6VNZV5MTa"
      }
    },
    {
      "cell_type": "code",
      "source": [],
      "metadata": {
        "id": "SBvTN3UD2N8S"
      },
      "execution_count": null,
      "outputs": []
    },
    {
      "cell_type": "markdown",
      "source": [
        "### 11. Clone the repository to your local Machine:"
      ],
      "metadata": {
        "id": "hEHMQrCT5R_X"
      }
    },
    {
      "cell_type": "markdown",
      "source": [
        "- Copy the repository URL (use SSH)\n",
        "- Open your terminal\n",
        "- Run the command to clone the repo:\n",
        "  - `git clone git@github.com:your-username/your-repository-name.git`"
      ],
      "metadata": {
        "id": "tGgp7C8L5Tlf"
      }
    },
    {
      "cell_type": "markdown",
      "source": [
        "### 12. Navigate ot the Repository Directory"
      ],
      "metadata": {
        "id": "RWPQDXQCWGPe"
      }
    },
    {
      "cell_type": "markdown",
      "source": [],
      "metadata": {
        "id": "cPMSOh-_I78Z"
      }
    },
    {
      "cell_type": "markdown",
      "source": [
        "- Run the command:\n",
        "  - `cd your-repository-name`"
      ],
      "metadata": {
        "id": "XMbXi28S5cEa"
      }
    },
    {
      "cell_type": "markdown",
      "source": [
        "## Part 6: Add and Commit Changes"
      ],
      "metadata": {
        "id": "5BA69bl9514I"
      }
    },
    {
      "cell_type": "markdown",
      "source": [
        "### 13. Create a new file:"
      ],
      "metadata": {
        "id": "-F6WcjMx53hX"
      }
    },
    {
      "cell_type": "markdown",
      "source": [
        "- Create a new file in the repo dir. like \"Hello.txt\" aadd some content to the file"
      ],
      "metadata": {
        "id": "cpjDay105422"
      }
    },
    {
      "cell_type": "markdown",
      "source": [
        "### 14. Add your file to the staging:"
      ],
      "metadata": {
        "id": "M1Qje1Bz56lV"
      }
    },
    {
      "cell_type": "markdown",
      "source": [
        "- Run the command:\n",
        "  - `git add Hello.txt`"
      ],
      "metadata": {
        "id": "3-lkIO1k58C1"
      }
    },
    {
      "cell_type": "markdown",
      "source": [
        "### 15. Commit the Changes:"
      ],
      "metadata": {
        "id": "ed7SSe5g5_b8"
      }
    },
    {
      "cell_type": "markdown",
      "source": [
        "- Run the command:\n",
        "  - `git commit -m \"Added a Hello.txt file\"`"
      ],
      "metadata": {
        "id": "rxjv972v6BUx"
      }
    },
    {
      "cell_type": "markdown",
      "source": [
        "### 16. Push the changes to the Github:"
      ],
      "metadata": {
        "id": "IKStf8nE6Etc"
      }
    },
    {
      "cell_type": "markdown",
      "source": [
        "- Run the command:\n",
        "  - `git push origin main`"
      ],
      "metadata": {
        "id": "aim6X-l96GVg"
      }
    },
    {
      "cell_type": "markdown",
      "source": [
        "## Part 7: Collaborate with Others"
      ],
      "metadata": {
        "id": "cXdYdP-N6JD_"
      }
    },
    {
      "cell_type": "markdown",
      "source": [
        "### 17. Create a new Branch:"
      ],
      "metadata": {
        "id": "OEM3MqWn6Kbw"
      }
    },
    {
      "cell_type": "markdown",
      "source": [
        "- Run the Command to create a new branch:\n",
        "  - `git checkout -b <branch name>`"
      ],
      "metadata": {
        "id": "uIobaXZE6Ly1"
      }
    },
    {
      "cell_type": "markdown",
      "source": [
        "### 18. Make changes to the new branch"
      ],
      "metadata": {
        "id": "lLzyv-Zx6N6b"
      }
    },
    {
      "cell_type": "markdown",
      "source": [
        "- Modify the existing file or create a new file"
      ],
      "metadata": {
        "id": "rorvouFn6PdG"
      }
    },
    {
      "cell_type": "markdown",
      "source": [
        "### 19. Add and commit Changes:"
      ],
      "metadata": {
        "id": "D8Q6UA1d6UXR"
      }
    },
    {
      "cell_type": "markdown",
      "source": [
        "- Run the commands:\n",
        "  - `git add .`\n",
        "  - `git commit -m \"message to commit\"`"
      ],
      "metadata": {
        "id": "QB6ijVVl6Wa8"
      }
    },
    {
      "cell_type": "markdown",
      "source": [
        "### 20. Push the new branch to the gitHub"
      ],
      "metadata": {
        "id": "k77bCWvY6a96"
      }
    },
    {
      "cell_type": "markdown",
      "source": [
        "- Run the command:\n",
        "  - `git push origin <branch name>`"
      ],
      "metadata": {
        "id": "M8xv3foW6caC"
      }
    },
    {
      "cell_type": "markdown",
      "source": [
        "### 21. Create a pull request:"
      ],
      "metadata": {
        "id": "u08Lvzq-6iad"
      }
    },
    {
      "cell_type": "markdown",
      "source": [
        "- Go to your repo on Github\n",
        "- click on \"Pull Requests\" and then \"New pull Request\"\n",
        "- Select your branch and create the pull request\n",
        "- Add a description and submit the pull request"
      ],
      "metadata": {
        "id": "0Cn8TbSA6j_t"
      }
    },
    {
      "cell_type": "markdown",
      "source": [
        "## Part 8: Review and Merge the pull Requests"
      ],
      "metadata": {
        "id": "XTiK43lS6p4Q"
      }
    },
    {
      "cell_type": "markdown",
      "source": [
        "### 22. Review the pull request:"
      ],
      "metadata": {
        "id": "ypqgRMMO6rnK"
      }
    },
    {
      "cell_type": "markdown",
      "source": [
        "- Review the pull requests on GitHub\n",
        "- Add comments on Request changes if neccesary"
      ],
      "metadata": {
        "id": "FAsvKKT06tPJ"
      }
    },
    {
      "cell_type": "markdown",
      "source": [
        "### 23. Merge the Pull Request:"
      ],
      "metadata": {
        "id": "8hjH4Cle6wCg"
      }
    },
    {
      "cell_type": "markdown",
      "source": [
        "- Once satisfied with the changes, merge the pull request."
      ],
      "metadata": {
        "id": "-jGZPCB36xpm"
      }
    },
    {
      "cell_type": "markdown",
      "source": [
        "### 24. Delete the Branch"
      ],
      "metadata": {
        "id": "IBwDFuaV6zZz"
      }
    },
    {
      "cell_type": "markdown",
      "source": [
        "- Optionally delete the branch after merging."
      ],
      "metadata": {
        "id": "XgCSe8oJ4Os9"
      }
    },
    {
      "cell_type": "markdown",
      "source": [
        "# Submission:"
      ],
      "metadata": {
        "id": "d2V3oGRM5y8t"
      }
    },
    {
      "cell_type": "markdown",
      "source": [
        "- Provide evidence ot the followwwing:\n",
        "  - Screenshot of git Installation and version verifications\n",
        "  - Screenshots of Git Configurations\n",
        "  - Screenshot of GitHub Profile\n",
        "  - Screenshot of SSH key setup process\n",
        "  - A link to your Github Repo\n",
        "  - A screenshot of the terminal commands used to clone, add, commit, push, create branches....\n",
        "  - Screenshot of the pull request creation, review, merge process."
      ],
      "metadata": {
        "id": "u2zjGTO-5mym"
      }
    },
    {
      "cell_type": "markdown",
      "source": [
        "- Compile the above in a single document called FirstName_LastName.docx and upload to the assignment folder in the google Drive."
      ],
      "metadata": {
        "id": "iVaNuEJC5jl9"
      }
    },
    {
      "cell_type": "code",
      "source": [
        "print(\"Assignemnt completed!\")"
      ],
      "metadata": {
        "id": "hFgzPSS6PDFN",
        "colab": {
          "base_uri": "https://localhost:8080/"
        },
        "outputId": "f1195ff1-d6ee-4b23-a92e-fbf618ddb9cd"
      },
      "execution_count": null,
      "outputs": [
        {
          "output_type": "stream",
          "name": "stdout",
          "text": [
            "Assignemnt completed!\n"
          ]
        }
      ]
    },
    {
      "cell_type": "code",
      "source": [],
      "metadata": {
        "id": "ssixF4q2XQwS"
      },
      "execution_count": null,
      "outputs": []
    }
  ]
}